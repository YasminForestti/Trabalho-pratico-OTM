{
 "cells": [
  {
   "cell_type": "code",
   "execution_count": 4,
   "metadata": {},
   "outputs": [],
   "source": [
    "import numpy as np\n",
    "import pandas as pd"
   ]
  },
  {
   "cell_type": "markdown",
   "metadata": {},
   "source": [
    "## Definições"
   ]
  },
  {
   "cell_type": "markdown",
   "metadata": {},
   "source": [
    "- Função"
   ]
  },
  {
   "cell_type": "code",
   "execution_count": 5,
   "metadata": {},
   "outputs": [],
   "source": [
    "def f(x1,x2):\n",
    "    return 3**(1/(x1+x2))+x1**2+x2**2"
   ]
  },
  {
   "cell_type": "markdown",
   "metadata": {},
   "source": [
    "- Gradiente"
   ]
  },
  {
   "cell_type": "code",
   "execution_count": 6,
   "metadata": {},
   "outputs": [],
   "source": [
    "def Gradiente(x):\n",
    "    x = np.array(x)\n",
    "    x1 = x[0][0]\n",
    "    x2 =x[1][0]\n",
    "    return np.array([[2*x1-(np.log(3)*np.exp(np.log(3)/(x1+x2)))/(x1+x2)**2],\n",
    "                     [2*x2-(np.log(3)*np.exp(np.log(3)/(x1+x2)))/(x1+x2)**2]])"
   ]
  },
  {
   "cell_type": "markdown",
   "metadata": {},
   "source": [
    "- Hessiana"
   ]
  },
  {
   "cell_type": "code",
   "execution_count": 7,
   "metadata": {},
   "outputs": [],
   "source": [
    "def Heissiana(x):\n",
    "    x = np.array(x)\n",
    "    x1 = x[0][0]\n",
    "    x2 =x[1][0]\n",
    "    return np.array([[2 - (np.log(3)*(-np.log(3)*np.exp(np.log(3)/(x1+x2))-2*np.exp(np.log(3)/(x1+x2))))/(x1+x2)**4, -np.log(3)*(-np.log(3)*np.exp(np.log(3)/(x1+x2))-2*np.exp(np.log(3)/(x1+x2)))/(x1+x2)**4],\n",
    "\n",
    "                     [-np.log(3)*(-np.log(3)*np.exp(np.log(3)/(x1+x2))-2*np.exp(np.log(3)/(x1+x2)))/(x1+x2)**4 ,2 - (np.log(3)*(-np.log(3)*np.exp(np.log(3)/(x1+x2))-2*np.exp(np.log(3)/(x1+x2))*(x1+x2)))/(x1+x2)**4]])"
   ]
  },
  {
   "cell_type": "markdown",
   "metadata": {},
   "source": [
    "# Estudo da Função\n",
    "<hr/>"
   ]
  },
  {
   "cell_type": "markdown",
   "metadata": {},
   "source": [
    "## Primeira foto da função\n",
    "\n",
    "![Geogebra function](images/function.png)\n",
    "\n",
    "\n",
    "\n",
    "Apenas pela observação direta da função podemos visualizar criada pelo geogebra:\n",
    "1. Há uma uma descontinuidade na função;\n",
    "2. Há um mínimo local no primeiro quadrante (x > 0 e y > 0);\n",
    "3. No domínio observado, a função é convexa.\n"
   ]
  },
  {
   "cell_type": "markdown",
   "metadata": {},
   "source": [
    "## Decontinuidade\n",
    "\n",
    "Devido a razão $\\frac{1}{x_1 + x_2}$ presente no exponente do 3, temos que:\n",
    "\n",
    "$$\n",
    "\\lim_{x_1 \\to 0} f(x_1, x_2) = \\infty \\text{  e  } \\lim_{x_2 \\to 0} f(x_1, x_2) = \\infty\n",
    "$$\n",
    "\n",
    "Isso significa que a função não está definida no ponto (0, 0) e, portanto, ele não pode ser o mínimo global da função como aparenta na imagem.\\\\\n"
   ]
  },
  {
   "cell_type": "markdown",
   "metadata": {},
   "source": [
    "## Pontos estacionários\n",
    "\n",
    "Para calcular os pontos estácionários da função, vamos igualar seu gradiante a zero\n",
    "\n",
    "$$\n",
    "\\nabla f(x_1, x_2) = \\begin{bmatrix}\n",
    "        2x - \\frac{(\\ln{3}e^{\\frac{\\ln{3}}{x + y}})}{(x + y)^2}\\\\\n",
    "        2y - \\frac{(\\ln{3}e^{\\frac{\\ln{3}}{x + y}})}{(x + y)^2}\n",
    "\\end{bmatrix} = 0\n",
    "$$\n",
    "\n",
    "Assim, obtemos um sistema de equações que pode ser resolvido subtraindo a primeira equação da segunda:\n",
    "\n",
    "$$\n",
    "        2x - 2y =  0\\\\\n",
    "        x = y\n",
    "$$\n",
    "\n",
    "Isso indica que os pontos estacionários estão no domnínio estabelecido pela reta x = y. <br>\n",
    "Vamos calcular e visualizar o que acontece quando o hiperplano formado pela reta intercepta a função.\n",
    "\n",
    "$$\n",
    "        g(x) = f(x, x) = 3^{\\frac{1}{2x}} + 2x^2\n",
    "$$\n",
    "\n",
    "\n",
    "Intersseção em 3D            |  Intersseção em 2D (curva formada no eixo z e no eixo x)\n",
    ":-------------------------:|:-------------------------:\n",
    "![](images/hiperplano.png)  |  ![](images/intersse.png)\n",
    "\n",
    "\n",
    "\n",
    "Conseguimos observar o <strong>mínimo local</strong> mencionado anteriormente e aproximação feita pelo Geogebra do seu valor, mas gostaríamos de calcular esse valor numericamente. <br>Como não foi possível terminar a resolução do sistema de equações acima com os métodos tradicionais, optamos por usar uma <strong>aproximação de Taylor de terceira ordem </strong> para aproximar a função $3^{\\frac{1}{2x}}$ na forma de um polinômio.\n"
   ]
  },
  {
   "cell_type": "markdown",
   "metadata": {},
   "source": [
    " - Série de Taylor desenvoldida:\n",
    "$$\n",
    "        3^{\\frac{1}{2x}} \\approx \\sum_{n = -3}^0 \\frac{x^n (\\frac{2}{\\ln{3}})^n}{(-n!)} = 1\\:+\\:\\frac{0.5493061443340549}{x}\\:+\\:\\frac{0.15086862010157276}{x^2}+\\frac{0.02762435333633141}{x^3}\n",
    "$$\n",
    "<p align=\"center\">\n",
    "  <img src=\"images/taylo.png\" />\n",
    "</p>\n",
    "\n",
    "\n"
   ]
  },
  {
   "cell_type": "code",
   "execution_count": 13,
   "metadata": {},
   "outputs": [
    {
     "data": {
      "text/plain": [
       "(1.0, 0.5493061443340549, 0.15086862010157276, 0.02762435333633141)"
      ]
     },
     "execution_count": 13,
     "metadata": {},
     "output_type": "execute_result"
    }
   ],
   "source": [
    "def CoeffTaylor(n):\n",
    "    return (2/np.log(3))**n/(np.math.factorial(-n))\n",
    "CoeffTaylor(0), CoeffTaylor(-1), CoeffTaylor(-2), CoeffTaylor(-3)"
   ]
  },
  {
   "cell_type": "markdown",
   "metadata": {},
   "source": [
    "\n",
    "Dessa forma, foi possível encontrar um valor aproximadO para o ponto crítico da função algebricamente:\n",
    "\n",
    "$$\n",
    "        \n",
    "        g'(x) = 4x-\\frac{0.5493}{x^2}-\\frac{0.30172}{x^3}-\\frac{0.08286}{x^4}\\\\\n",
    "         4x-\\frac{0.5493}{x^2}-\\frac{0.30172}{x^3}-\\frac{0.08286}{x^4} = 0\\\\\n",
    "        \\therefore x = 0.66714\n",
    "$$\n",
    "O ponto estacionário encontrado foi ~(0.66714, 0.66714) com f(x, y) = 16832, que é muito parecido com o ponto aproximado pelo software ~(0.67633,0.67633) com f(x, y) = 3.16767\n"
   ]
  },
  {
   "cell_type": "markdown",
   "metadata": {},
   "source": [
    "## Convexidade\n",
    "\n",
    "Para analisar a convexidade vamos avaliar a Hessiana da função:\n",
    "\n",
    "Seja w = $\\frac{\\ln{(3)} (\\ln{(3)} e^{\\frac{\\ln{3}}{x+y}} + 2 (x + y) e^{\\frac{\\ln{3}}{x+y}})}{(x+y)^4}$, a Hessiana pode ser escrita da seguinte forma:\n",
    "\n",
    "\n",
    "$$\n",
    "H = \\begin{bmatrix}\n",
    "2+w & w \\\\\n",
    "w & 2+w \n",
    "\\end{bmatrix}\n",
    "$$\n",
    "Sabemos que para um matriz ser definida positiva, a sua determinante e a determinante de suas submatrices precisa ser maior que zero:\n",
    "\n",
    "\n",
    "$$\n",
    "    det([2+w]) = 2 + w > 0 \\\\\n",
    "    det(H) = (2+w)^2 - w^2 > 0\n",
    "$$\n",
    "\n",
    "Se x > 0 e y > 0, w é sempre postivo o que torna as duas desigualdades acima verdadeiras. Então, a matriz é definida positiva nesse domínio e portanto convexa. Isso já indica que nosso ponto estacionário é um ponto de mínimo, vamos conferir:\n",
    "\n",
    "\n"
   ]
  },
  {
   "cell_type": "code",
   "execution_count": 15,
   "metadata": {},
   "outputs": [
    {
     "data": {
      "text/plain": [
       "True"
      ]
     },
     "execution_count": 15,
     "metadata": {},
     "output_type": "execute_result"
    }
   ],
   "source": [
    "def definida_positiva_2x2(matrix):    \n",
    "    if matrix[0][0] > 0 and np.linalg.det(matrix)>0:\n",
    "        return True\n",
    "    else: \n",
    "        return False\n",
    "    \n",
    "heissiana_ponto_critico = Heissiana([[0.66714],[0.66714]])\n",
    "definida_positiva_2x2(heissiana_ponto_critico)"
   ]
  },
  {
   "cell_type": "markdown",
   "metadata": {},
   "source": [
    "Provamos, então, que o ponto crítico encontrado nesta análise é um ponto de <strong>mínimo</strong>. <br>\n",
    "É fácil perceber que ele é <strong>local</strong>, pois existem valores em que a função é menor.\n"
   ]
  },
  {
   "cell_type": "code",
   "execution_count": 17,
   "metadata": {},
   "outputs": [
    {
     "data": {
      "text/plain": [
       "2.5773502691896257"
      ]
     },
     "execution_count": 17,
     "metadata": {},
     "output_type": "execute_result"
    }
   ],
   "source": [
    "f([[-1], [-1]])"
   ]
  }
 ],
 "metadata": {
  "kernelspec": {
   "display_name": "Python 3",
   "language": "python",
   "name": "python3"
  },
  "language_info": {
   "name": "python",
   "version": "3.9.6 (tags/v3.9.6:db3ff76, Jun 28 2021, 15:26:21) [MSC v.1929 64 bit (AMD64)]"
  },
  "orig_nbformat": 4,
  "vscode": {
   "interpreter": {
    "hash": "97df6f2fb7f9c55379e2d2444043f8d5f157c223a696fe5032f4316ff3fcd6e6"
   }
  }
 },
 "nbformat": 4,
 "nbformat_minor": 2
}
