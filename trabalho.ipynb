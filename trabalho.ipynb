{
 "cells": [
  {
   "cell_type": "code",
   "execution_count": 1,
   "metadata": {},
   "outputs": [],
   "source": [
    "import numpy as np"
   ]
  },
  {
   "attachments": {},
   "cell_type": "markdown",
   "metadata": {},
   "source": [
    "## Estudo da função"
   ]
  },
  {
   "attachments": {},
   "cell_type": "markdown",
   "metadata": {},
   "source": [
    "$$\n",
    "\\lim_{x1 \\to 0} f(x1) = \\infty \\text{  e  } \\lim_{x2 \\to 0} f(x2) = \\infty\n",
    "$$"
   ]
  },
  {
   "attachments": {},
   "cell_type": "markdown",
   "metadata": {},
   "source": [
    "$$\n",
    "f(x) = 3^{\\frac{1}{x_1+x_2}} + x_1^2 + x_2^2 \\\\\n",
    "\\nabla f(x) = [2 \\dot x_1 -\\frac{ e^\\frac{ln(3)}{x_1+x_2}}{(x_1+x_2)**2}, 2 \\dot x_2 -\\frac{ e^\\frac{ln(3)}{x_1+x_2}}{(x_1+x_2)**2}] \\\\\n",
    "\n",
    "$$"
   ]
  },
  {
   "cell_type": "code",
   "execution_count": 202,
   "metadata": {},
   "outputs": [],
   "source": [
    "def f(x):\n",
    "    x = np.array(x)\n",
    "    x1 = x[0][0]\n",
    "    x2 =x[1][0]\n",
    "    return 3**(1/(x1+x2))+x1**2+x2**2"
   ]
  },
  {
   "cell_type": "code",
   "execution_count": 203,
   "metadata": {},
   "outputs": [],
   "source": [
    "def Gradiente(x):\n",
    "    x = np.array(x)\n",
    "    x1 = x[0][0]\n",
    "    x2 =x[1][0]\n",
    "    return np.array([[2*x1-(np.log(3)*np.exp(np.log(3)/(x1+x2)))/(x1+x2)**2],\n",
    "            [2*x2-(np.log(3)*np.exp(np.log(3)/(x1+x2)))/(x1+x2)**2]])"
   ]
  },
  {
   "cell_type": "code",
   "execution_count": 204,
   "metadata": {},
   "outputs": [],
   "source": [
    "def Heissiana(x):\n",
    "    x = np.array(x)\n",
    "    x1 = x[0][0]\n",
    "    x2 =x[1][0]\n",
    "    return np.array([[2 - (np.log(3)*(-np.log(3)*np.exp(np.log(3)/(x1+x2))-2*np.exp(np.log(3)/(x1+x2))))/(x1+x2)**4, -np.log(3)*(-np.log(3)*np.exp(np.log(3)/(x1+x2))-2*np.exp(np.log(3)/(x1+x2)))/(x1+x2)**4],\n",
    "\n",
    "            [-np.log(3)*(-np.log(3)*np.exp(np.log(3)/(x1+x2))-2*np.exp(np.log(3)/(x1+x2)))/(x1+x2)**4 ,2 - (np.log(3)*(-np.log(3)*np.exp(np.log(3)/(x1+x2))-2*np.exp(np.log(3)/(x1+x2))*(x1+x2)))/(x1+x2)**4]])"
   ]
  },
  {
   "cell_type": "code",
   "execution_count": 116,
   "metadata": {},
   "outputs": [],
   "source": [
    "def definida_positiva_2x2(matrix):    \n",
    "    if matrix[0][0] > 0 and np.linalg.det(matrix)>0:\n",
    "        return True\n",
    "    else: \n",
    "        return False"
   ]
  },
  {
   "attachments": {},
   "cell_type": "markdown",
   "metadata": {},
   "source": [
    "## Implementação dos métodos"
   ]
  },
  {
   "attachments": {},
   "cell_type": "markdown",
   "metadata": {},
   "source": [
    "### Busca de Armijo"
   ]
  },
  {
   "cell_type": "code",
   "execution_count": 166,
   "metadata": {},
   "outputs": [],
   "source": [
    "def Armijo(x,gama,d,n):\n",
    "    t = 1\n",
    "    k = 0\n",
    "    d = np.array(d)\n",
    "    x = np.array(x)\n",
    "    while f(x + t*d) > f(x) + n*t*(np.transpose(Gradiente(x))@d):\n",
    "        t=gama*t\n",
    "        k = k+1\n",
    "    return [t,k]"
   ]
  },
  {
   "cell_type": "code",
   "execution_count": null,
   "metadata": {},
   "outputs": [],
   "source": []
  },
  {
   "cell_type": "code",
   "execution_count": 120,
   "metadata": {},
   "outputs": [],
   "source": [
    "x = [[0.5],[0.5]]\n",
    "n = 0.25\n",
    "t = 1\n",
    "d = [[3],[1]]"
   ]
  },
  {
   "attachments": {},
   "cell_type": "markdown",
   "metadata": {},
   "source": [
    "### Método do Gradiente"
   ]
  },
  {
   "cell_type": "code",
   "execution_count": 169,
   "metadata": {},
   "outputs": [],
   "source": [
    "def met_gradiente(x,tol,maxiter,gama,n):\n",
    "    x = np.array(x)\n",
    "    m = 0\n",
    "    k = 0\n",
    "    while np.linalg.norm(Gradiente(x)) > tol and m < maxiter:\n",
    "        d = - Gradiente(x)\n",
    "        ar = Armijo(x,gama,d,n)\n",
    "        k = k + ar[1]\n",
    "        t = ar[0]\n",
    "        x = x + t*d\n",
    "        m = m + 1\n",
    "    return [x,m,k] "
   ]
  },
  {
   "cell_type": "code",
   "execution_count": 170,
   "metadata": {},
   "outputs": [
    {
     "name": "stderr",
     "output_type": "stream",
     "text": [
      "C:\\Users\\yfrom\\AppData\\Local\\Temp\\ipykernel_17260\\3196596769.py:5: RuntimeWarning: overflow encountered in double_scalars\n",
      "  return 3**(1/(x1+x2))+x1**2+x2**2\n"
     ]
    },
    {
     "data": {
      "text/plain": [
       "[array([[-0.00150145],\n",
       "        [-0.00150145]]),\n",
       " 3,\n",
       " 14]"
      ]
     },
     "execution_count": 170,
     "metadata": {},
     "output_type": "execute_result"
    }
   ],
   "source": [
    "met_gradiente([[-1],[-1]],0.01,1000,0.8,0.25)"
   ]
  },
  {
   "attachments": {},
   "cell_type": "markdown",
   "metadata": {},
   "source": [
    "O método segue o gradiente até o ponto não definido da função (0,0)."
   ]
  },
  {
   "cell_type": "code",
   "execution_count": 172,
   "metadata": {},
   "outputs": [
    {
     "name": "stdout",
     "output_type": "stream",
     "text": [
      "[array([[0.67633305],\n",
      "       [0.67633305]]), 11, 89]\n"
     ]
    }
   ],
   "source": [
    "met_gradiente([[0.5],[0.5]],0.00001,1000,0.8,0.25)"
   ]
  },
  {
   "attachments": {},
   "cell_type": "markdown",
   "metadata": {},
   "source": [
    "### Método de Newton"
   ]
  },
  {
   "cell_type": "code",
   "execution_count": 194,
   "metadata": {},
   "outputs": [],
   "source": [
    "def met_newton(x,tol,maxiter,gama,n):\n",
    "    x = np.array(x)\n",
    "    m = 0\n",
    "    k = 0\n",
    "    while np.linalg.norm(Gradiente(x)) > tol and m < maxiter:\n",
    "        d = - (np.linalg.inv(Heissiana(x)))@Gradiente(x)\n",
    "        ar = Armijo(x,gama,d,n)\n",
    "        k = k + ar[1]\n",
    "        t = ar[0]\n",
    "        x = x + t*d\n",
    "        m = m + 1\n",
    "        k = k+1\n",
    "    return [x,m,k] "
   ]
  },
  {
   "cell_type": "code",
   "execution_count": 177,
   "metadata": {},
   "outputs": [
    {
     "data": {
      "text/plain": [
       "[array([[-0.06787345],\n",
       "        [-0.1419706 ]]),\n",
       " 1000,\n",
       " 153962]"
      ]
     },
     "execution_count": 177,
     "metadata": {},
     "output_type": "execute_result"
    }
   ],
   "source": [
    "met_newton([[-1],[-1]],0.01,1000,0.8,0.25) "
   ]
  },
  {
   "cell_type": "code",
   "execution_count": 195,
   "metadata": {},
   "outputs": [
    {
     "data": {
      "text/plain": [
       "[array([[0.678713  ],\n",
       "        [0.67495778]]),\n",
       " 3,\n",
       " 3]"
      ]
     },
     "execution_count": 195,
     "metadata": {},
     "output_type": "execute_result"
    }
   ],
   "source": [
    "met_newton([[0.5],[0.5]],0.01,1000,0.8,0.25) "
   ]
  },
  {
   "attachments": {},
   "cell_type": "markdown",
   "metadata": {},
   "source": [
    "### Método Quase Newton"
   ]
  },
  {
   "attachments": {},
   "cell_type": "markdown",
   "metadata": {},
   "source": [
    "#### DFP"
   ]
  },
  {
   "cell_type": "code",
   "execution_count": 221,
   "metadata": {},
   "outputs": [],
   "source": [
    "def DFP(x_atual,x_antigo,H):\n",
    "    x_atual = np.array(x_atual)\n",
    "    x_antigo = np.array(x_antigo)\n",
    "    p = x_atual - x_antigo\n",
    "    q = Gradiente(x_atual)- Gradiente(x_antigo)\n",
    "    if np.linalg.norm(p) != 0 and np.linalg.norm(q) != 0:\n",
    "        return H + (p@np.transpose(p))/(np.transpose(p)@q) - (H@q@np.transpose(q)@H)/(np.transpose(q)@H@q)\n",
    "    else: \n",
    "        return H"
   ]
  },
  {
   "cell_type": "code",
   "execution_count": 222,
   "metadata": {},
   "outputs": [],
   "source": [
    "def met_quase_newton_DFP(x,tol,maxiter,gama,n):\n",
    "    x = np.array(x)\n",
    "    m = 0\n",
    "    k =0\n",
    "    H = np.identity(2)\n",
    "    while np.linalg.norm(Gradiente(x)) > tol and m < maxiter:\n",
    "        x_antigo = x\n",
    "        d = -1*H@Gradiente(x)\n",
    "        ar = Armijo(x,gama,d,n)\n",
    "        t = ar[0]\n",
    "        x = x + t*d\n",
    "        H = -1*DFP(x,x_antigo,H)\n",
    "        m = m + 1\n",
    "        k = k + ar[1]\n",
    "    return [x,m,k] "
   ]
  },
  {
   "cell_type": "code",
   "execution_count": 223,
   "metadata": {},
   "outputs": [
    {
     "data": {
      "text/plain": [
       "[array([[0.67556966],\n",
       "        [0.67556966]]),\n",
       " 7,\n",
       " 598]"
      ]
     },
     "execution_count": 223,
     "metadata": {},
     "output_type": "execute_result"
    }
   ],
   "source": [
    "met_quase_newton_DFP([[0.5],[0.5]],0.01,1000,0.8,0.25) "
   ]
  },
  {
   "cell_type": "code",
   "execution_count": 232,
   "metadata": {},
   "outputs": [
    {
     "data": {
      "text/plain": [
       "[array([[-0.00021052],\n",
       "        [-0.00021052]]),\n",
       " 10,\n",
       " 826]"
      ]
     },
     "execution_count": 232,
     "metadata": {},
     "output_type": "execute_result"
    }
   ],
   "source": [
    "met_quase_newton_DFP([[-1],[-1]],0.01,1000,0.8,0.25) "
   ]
  },
  {
   "attachments": {},
   "cell_type": "markdown",
   "metadata": {},
   "source": [
    "#### BFGS"
   ]
  },
  {
   "cell_type": "code",
   "execution_count": 228,
   "metadata": {},
   "outputs": [],
   "source": [
    "def BFGS(x_atual,x_antigo,H):\n",
    "    x_atual = np.array(x_atual)\n",
    "    x_antigo = np.array(x_antigo)\n",
    "    p = x_atual - x_antigo\n",
    "    q = Gradiente(x_atual)- Gradiente(x_antigo)\n",
    "    if np.traspose(q)@p:\n",
    "        return H + (1 + (np.transpose(q)@H@q)/np.transpose(p)@q)*((p@np.transpose(p))/(np.transpose(q)@q)) - (p@np.transpose(q)@H + H@q@np.transpose(p))/(np.transpose(p)@q)\n",
    "    else: \n",
    "        return H"
   ]
  },
  {
   "cell_type": "code",
   "execution_count": 229,
   "metadata": {},
   "outputs": [],
   "source": [
    "def met_quase_newton_BFGS(x,tol,maxiter,gama,n):\n",
    "    x = np.array(x)\n",
    "    m = 0\n",
    "    k =0\n",
    "    H = np.identity(2)\n",
    "    while np.linalg.norm(Gradiente(x)) > tol and m < maxiter:\n",
    "        x_antigo = x\n",
    "        d = -1*H@Gradiente(x)\n",
    "        ar = Armijo(x,gama,d,n)\n",
    "        t = ar[0]\n",
    "        x = x + t*d\n",
    "        H = -1*BFGS(x,x_antigo,H)\n",
    "        m = m + 1\n",
    "        k = k + ar[1]\n",
    "    return [x,m,k] "
   ]
  },
  {
   "cell_type": "code",
   "execution_count": 230,
   "metadata": {},
   "outputs": [
    {
     "name": "stderr",
     "output_type": "stream",
     "text": [
      "C:\\Users\\yfrom\\AppData\\Local\\Temp\\ipykernel_17260\\3196596769.py:5: RuntimeWarning: overflow encountered in double_scalars\n",
      "  return 3**(1/(x1+x2))+x1**2+x2**2\n"
     ]
    },
    {
     "data": {
      "text/plain": [
       "[array([[-0.00116829],\n",
       "        [-0.00116829]]),\n",
       " 7,\n",
       " 531]"
      ]
     },
     "execution_count": 230,
     "metadata": {},
     "output_type": "execute_result"
    }
   ],
   "source": [
    "met_quase_newton_BFGS([[0.5],[0.5]],0.01,1000,0.8,0.25) "
   ]
  },
  {
   "cell_type": "code",
   "execution_count": 231,
   "metadata": {},
   "outputs": [
    {
     "data": {
      "text/plain": [
       "[array([[-0.00031065],\n",
       "        [-0.00031065]]),\n",
       " 5,\n",
       " 385]"
      ]
     },
     "execution_count": 231,
     "metadata": {},
     "output_type": "execute_result"
    }
   ],
   "source": [
    "met_quase_newton_BFGS([[-1],[-1]],0.01,1000,0.8,0.25) "
   ]
  }
 ],
 "metadata": {
  "kernelspec": {
   "display_name": "Python 3",
   "language": "python",
   "name": "python3"
  },
  "language_info": {
   "codemirror_mode": {
    "name": "ipython",
    "version": 3
   },
   "file_extension": ".py",
   "mimetype": "text/x-python",
   "name": "python",
   "nbconvert_exporter": "python",
   "pygments_lexer": "ipython3",
   "version": "3.9.6 (tags/v3.9.6:db3ff76, Jun 28 2021, 15:26:21) [MSC v.1929 64 bit (AMD64)]"
  },
  "orig_nbformat": 4,
  "vscode": {
   "interpreter": {
    "hash": "97df6f2fb7f9c55379e2d2444043f8d5f157c223a696fe5032f4316ff3fcd6e6"
   }
  }
 },
 "nbformat": 4,
 "nbformat_minor": 2
}
